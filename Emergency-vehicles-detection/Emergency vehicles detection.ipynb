{
 "cells": [
  {
   "cell_type": "code",
   "execution_count": null,
   "metadata": {},
   "outputs": [],
   "source": [
    "import numpy as np \n",
    "from tensorflow import keras\n",
    "import tensorflow\n",
    "from recorder import Recorder\n",
    "import matplotlib.pyplot as plt\n",
    "import scipy\n",
    "import librosa\n",
    "from librosa import display\n",
    "from IPython.display import Audio\n",
    "from scipy.fft import fft, fftfreq\n",
    "import numpy as np\n",
    "import cv2"
   ]
  },
  {
   "cell_type": "code",
   "execution_count": null,
   "metadata": {},
   "outputs": [],
   "source": [
    "frameWidth = 640\n",
    "frameHeight = 480\n",
    "cap = cv2.VideoCapture('ambulance.mp4')\n",
    "#cap = cv2.VideoCapture(1)\n",
    "cap.set(3, frameWidth)\n",
    "cap.set(4, frameHeight)\n",
    "cap.set(10,150)\n"
   ]
  },
  {
   "cell_type": "code",
   "execution_count": null,
   "metadata": {},
   "outputs": [],
   "source": [
    "data = np.ndarray(shape=(1, 224, 224, 3), dtype=np.float32)\n",
    "np.set_printoptions(suppress=True)\n",
    "model = tensorflow.keras.models.load_model('keras_model.h5')\n",
    "#model = tensorflow.keras.models.load_model('model_resnet50.h5')\n",
    "#model = tensorflow.keras.models.load_model('D:/dowanloadss/new model with accident/keras_model.h5')\n"
   ]
  },
  {
   "cell_type": "code",
   "execution_count": null,
   "metadata": {},
   "outputs": [],
   "source": [
    "def emergency():\n",
    "    \n",
    "   # r = Recorder()\n",
    "    #r.record(5, output='out.wav')\n",
    "    fname=\"sound_1.wav\"\n",
    "    samples, sam_rate=librosa.load(fname, sr=None, mono=True, offset=0.0, duration=None)\n",
    "\n",
    "\n",
    "    Audio(fname)\n",
    "\n",
    "    #plt.figure()\n",
    "    #librosa.display.waveplot(y=samples, sr=sam_rate)\n",
    "    #plt.xlabel(\"time secs\")\n",
    "    #plt.ylabel(\"Ampl\")\n",
    "    #plt.show()\n",
    "\n",
    "    def fft_plot(audio, sam_rate):\n",
    "        n = len(audio)\n",
    "        T= 1/sam_rate\n",
    "        yf = fft(audio)\n",
    "        xf = fftfreq(n, T)#[:n//2]\n",
    "        #fig, ax = plt.subplots()\n",
    "        #plt.plot(xf, 2.0/n * np.abs(yf)) #np.abs(yf[0:n//2]))\n",
    "        #plt.grid()\n",
    "        #plt.xlabel(\"Freq\")\n",
    "        #plt.ylabel(\"mag\")\n",
    "        val=np.argmax(yf)\n",
    "        #plt.show()\n",
    "        return np.abs(xf[val])\n",
    "\n",
    "\n",
    "    audio_freq = fft_plot(samples, sam_rate)\n",
    "    freq = audio_freq.round()\n",
    "    if freq in range(700,1500):\n",
    "         cv2.putText(image,'Ambulance detecated',(450,100),cv2.FONT_HERSHEY_COMPLEX,1,(0,0,255),2)\n",
    "    \n",
    "         print(\"it is a emergency vechicle\")\n",
    "    else:\n",
    "        pass\n",
    "    "
   ]
  },
  {
   "cell_type": "code",
   "execution_count": null,
   "metadata": {},
   "outputs": [],
   "source": [
    "amc = 0\n",
    "fir = 0\n",
    "pol = 0\n",
    "while True:\n",
    "    \n",
    "    success, img = cap.read()\n",
    "    image = img\n",
    "    img = cv2.resize(img,(224,224))\n",
    "    img_res = np.asarray(img)\n",
    "    normalized_image_array = (img_res.astype(np.float32) / 127.0) - 1\n",
    "    data[0] = normalized_image_array\n",
    "    prediction = model.predict(data)\n",
    "    \n",
    "    ambulance = prediction[0][0].round()\n",
    "    firengine = prediction[0][1].round()\n",
    "    policecar = prediction[0][2].round()\n",
    "    trafic = prediction[0][3].round()\n",
    "    \n",
    "    if ambulance == 1:\n",
    "        amc += 1\n",
    "        if amc == 10:\n",
    "            amc = 0\n",
    "            emergency()\n",
    "    else:\n",
    "        amc = 0\n",
    "    \n",
    "    if firengine == 1:\n",
    "        cv2.putText(image,'Firengine detected',(450,100),cv2.FONT_HERSHEY_COMPLEX,1,(0,0,255),2)\n",
    "    \n",
    "    if policecar == 1:\n",
    "        cv2.putText(image,'Policecar detected',(450,100),cv2.FONT_HERSHEY_COMPLEX,1,(0,0,255),2)\n",
    "        \n",
    "    text = f'Ambulance: {ambulance}, Firengine: {firengine}, Policecar: {policecar}, Trafic: {trafic}'\n",
    "    \n",
    "    cv2.putText(image, text, (15,20), cv2.FONT_HERSHEY_COMPLEX, 1, (0,0,0), 2)\n",
    "    cv2.imshow(\"Result\", image)\n",
    "    if cv2.waitKey(1) & 0xFF == ord('q'):\n",
    "        break\n"
   ]
  },
  {
   "cell_type": "code",
   "execution_count": null,
   "metadata": {},
   "outputs": [],
   "source": []
  }
 ],
 "metadata": {
  "kernelspec": {
   "display_name": "Python 3",
   "language": "python",
   "name": "python3"
  },
  "language_info": {
   "codemirror_mode": {
    "name": "ipython",
    "version": 3
   },
   "file_extension": ".py",
   "mimetype": "text/x-python",
   "name": "python",
   "nbconvert_exporter": "python",
   "pygments_lexer": "ipython3",
   "version": "3.9.18"
  }
 },
 "nbformat": 4,
 "nbformat_minor": 4
}
